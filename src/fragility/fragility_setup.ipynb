{
 "cells": [
  {
   "cell_type": "code",
   "execution_count": 1,
   "id": "83a89109-30f3-4fd8-9066-cf091a62a7b2",
   "metadata": {},
   "outputs": [],
   "source": [
    "from pathlib import Path\n",
    "import subprocess\n",
    "import shlex\n",
    "import os\n",
    "import shutil\n",
    "import pandas as pd\n",
    "import numpy as np\n",
    "import fileinput\n",
    "import matplotlib.pyplot as plt"
   ]
  },
  {
   "cell_type": "code",
   "execution_count": 2,
   "id": "43f77918-1cff-472b-9114-7bf19b6d0b99",
   "metadata": {},
   "outputs": [],
   "source": [
    "def extract_failure_probability(filename='dakotaTab.out'):\n",
    "\n",
    "    with open(filename, 'r') as file:\n",
    "        data = file.readlines()\n",
    "    \n",
    "    # Process the data into a list of lists with high precision\n",
    "    array = []\n",
    "    for line in data[1:]:  # Skip the first line\n",
    "        values = line.split()\n",
    "        row = [float(value) for value in values[2:]]  # Convert values from index 2 onwards to Decimal\n",
    "        array.append(row)\n",
    "    \n",
    "    # Convert the list of lists into a NumPy array with high precision\n",
    "    numpy_array = np.array(array, dtype=np.float64)    \n",
    "    failure_probability = np.mean(numpy_array[:, -1])\n",
    "    return failure_probability"
   ]
  },
  {
   "cell_type": "code",
   "execution_count": 3,
   "id": "3cab2570-ad75-465c-aba4-a0aa44c7053a",
   "metadata": {},
   "outputs": [],
   "source": [
    "def configure_analysis(fire_load, filename='templatedir/column_config.py'):\n",
    "    \n",
    "    with open(filename, 'r') as file:\n",
    "        data = file.readlines()\n",
    "    data[-1] = data[-1].replace(\"2000\", str(fire_load))\n",
    "    with open(filename, 'w') as file:\n",
    "        file.writelines(data)"
   ]
  },
  {
   "cell_type": "code",
   "execution_count": 4,
   "id": "65b76738-d370-4dd4-8982-2c9801a71559",
   "metadata": {},
   "outputs": [
    {
     "name": "stdout",
     "output_type": "stream",
     "text": [
      "/Users/emilynakamura/Downloads/NHERI/Technical/REU2024/src/fragility\n"
     ]
    }
   ],
   "source": [
    "print(os.getcwd())"
   ]
  },
  {
   "cell_type": "code",
   "execution_count": 5,
   "id": "5c133cc7-3951-4725-9ba1-823187f88187",
   "metadata": {},
   "outputs": [
    {
     "name": "stdout",
     "output_type": "stream",
     "text": [
      "/Users/emilynakamura/Downloads/NHERI/Technical/REU2024/src/fragility\n",
      "0 2000\n",
      "0.15\n",
      "1 1900\n",
      "0.15\n"
     ]
    }
   ],
   "source": [
    "print(os.getcwd())\n",
    "source = Path(\"tmp.SimCenter\").resolve()\n",
    "fire_loads = np.arange(2000, 1800, -100)\n",
    "# pf_list = np.zeros_like(fire_loads)\n",
    "pf_list = []\n",
    "fire_load_list = []\n",
    "for num, fire_load in enumerate(fire_loads):\n",
    "    print(num, fire_load)\n",
    "    destination = source.parent / f\"analysis_{num}\"\n",
    "    if destination.is_dir():\n",
    "        shutil.rmtree(destination, ignore_errors=True)\n",
    "    shutil.copytree(source, destination)\n",
    "    template_dir = destination / \"templatedir\"\n",
    "    os.chdir(destination)\n",
    "    configure_analysis(fire_load)\n",
    "    command = \"/Applications/quoFEM.app/Contents/MacOS/applications/dakota/bin/dakota -input dakota.in -output dakota.out -error dakota.err\"\n",
    "    command_list = shlex.split(command)\n",
    "    subprocess.run(command_list)\n",
    "    pf = extract_failure_probability()\n",
    "    pf_list.append(pf)\n",
    "    fire_load_list.append(fire_load)\n",
    "    print(pf)\n",
    "    os.chdir(destination.parent)\n",
    "    shutil.rmtree(destination, ignore_errors=True)\n",
    "    if pf == 0:\n",
    "        break "
   ]
  },
  {
   "cell_type": "code",
   "execution_count": 36,
   "id": "f5efda3e-820b-4524-890b-0203a618b395",
   "metadata": {},
   "outputs": [
    {
     "data": {
      "image/png": "[encoded data removed]",
      "text/plain": [
       "<Figure size 640x480 with 1 Axes>"
      ]
     },
     "metadata": {},
     "output_type": "display_data"
    },
    {
     "name": "stdout",
     "output_type": "stream",
     "text": [
      "[1900, 2000]\n",
      "[0.15, 0.15]\n"
     ]
    }
   ],
   "source": [
    "x = fire_load_list[::-1]\n",
    "y = pf_list[::-1]\n",
    "plt.plot(x, y)\n",
    "plt.show()\n",
    "print(x)\n",
    "print(y)"
   ]
  },
  {
   "cell_type": "code",
   "execution_count": 7,
   "id": "60e74d23-dfe8-418d-a366-560af9585c8e",
   "metadata": {},
   "outputs": [],
   "source": [
    "# pf_list = [0.24, 0.14, 0.1, 0.08, 0.04, 0.04, 0.04, 0.0]"
   ]
  },
  {
   "cell_type": "code",
   "execution_count": 8,
   "id": "7a8bd586-8bec-4d2b-bbaf-ded3c25994dd",
   "metadata": {},
   "outputs": [],
   "source": [
    "# plt.plot(fire_loads[:8], pf_list)\n",
    "# plt.show()"
   ]
  },
  {
   "cell_type": "code",
   "execution_count": 9,
   "id": "28431b70-bf46-4754-b293-9dc1f562eb5c",
   "metadata": {},
   "outputs": [],
   "source": [
    "# os.chdir(destination)\n",
    "# command = \"/Applications/quoFEM.app/Contents/MacOS/applications/dakota/bin/dakota -input dakota.in -output dakota.out -error dakota.err\"\n",
    "# command_list = shlex.split(command)\n",
    "# subprocess.run(command_list)\n",
    "# pf = extract_failure_probability()\n",
    "# pf_list[num] = pf\n",
    "# print(pf)\n",
    "# os.chdir(destination.parent)\n",
    "# shutil.rmtree(destination, ignore_errors=True)\n"
   ]
  },
  {
   "cell_type": "code",
   "execution_count": 10,
   "id": "d60c56a5-8b1d-4608-bc90-210e309bee59",
   "metadata": {},
   "outputs": [
    {
     "name": "stdout",
     "output_type": "stream",
     "text": [
      "/Users/emilynakamura/Downloads/NHERI/Technical/REU2024/src/fragility\n",
      "/Users/emilynakamura/Downloads/NHERI/Technical/REU2024/src/fragility/analysis_1\n",
      "/Users/emilynakamura/Downloads/NHERI/Technical/REU2024/src/fragility\n"
     ]
    }
   ],
   "source": [
    "print(os.getcwd())\n",
    "print(destination)\n",
    "print(destination.parent)"
   ]
  },
  {
   "cell_type": "code",
   "execution_count": 11,
   "id": "70c83214-5b6e-4aa8-b9f3-3d04587105d7",
   "metadata": {},
   "outputs": [],
   "source": [
    "# os.chdir(destination.parent)"
   ]
  },
  {
   "cell_type": "code",
   "execution_count": 12,
   "id": "fd788cb8-e4dd-4225-a68d-5d85ce408e0e",
   "metadata": {},
   "outputs": [],
   "source": [
    "# # emily numpy, but sig fig prom\n",
    "# file = \"dakotaTab.out\"\n",
    "# with open(file, 'r') as file:\n",
    "#     data = file.readlines()\n",
    "\n",
    "# array = []\n",
    "# for line in data[1:]:  # Skip the first line\n",
    "#     values = line.split()\n",
    "#     row = [float(value) for value in values[2:]]  # Convert values from index 2 onwards to float\n",
    "#     array.append(row)\n",
    "\n",
    "# numpy_array = np.array(array)\n",
    "# print(numpy_array)\n",
    "\n",
    "# row_index = 1  # Replace with the row index you want to access\n",
    "# col_index = 3  # Replace with the column index you want to access\n",
    "\n",
    "# # Access the value\n",
    "# specific_value = numpy_array[row_index, col_index]\n",
    "# print(f\"The value at row {row_index + 1} and column {col_index + 1} is {specific_value}\")"
   ]
  },
  {
   "cell_type": "code",
   "execution_count": 13,
   "id": "7039ab14-dcfe-49e0-b278-bd49240f732f",
   "metadata": {},
   "outputs": [],
   "source": [
    "# # emily pandas, but sig fig problem\n",
    "# import pandas as pd\n",
    "\n",
    "# # Define the filename\n",
    "# filename = \"dakotaTab.out\"  # Replace with your actual file name\n",
    "\n",
    "# # Read the file into a DataFrame\n",
    "# df = pd.read_csv(filename, delim_whitespace=True, converters={'interface': str})\n",
    "\n",
    "# # Display the DataFrame\n",
    "# pd.set_option('display.precision', 15)\n",
    "# print(\"DataFrame:\")\n",
    "# print(df)\n",
    "\n",
    "# numpy_array = df.iloc[:, 2:].to_numpy()  # Skip the first two columns\n",
    "\n",
    "# # Display the NumPy array\n",
    "# print(\"\\nNumPy array:\")\n",
    "# print(numpy_array)\n"
   ]
  },
  {
   "cell_type": "code",
   "execution_count": 14,
   "id": "e3b752a6-2835-4b10-8316-b8b13259b7be",
   "metadata": {},
   "outputs": [],
   "source": [
    "# df = pd.read_csv(\"dakotaTab.out\", delimiter=\"\\t\").to_numpy()\n",
    "# df = df[:, 2:]"
   ]
  },
  {
   "cell_type": "code",
   "execution_count": 15,
   "id": "3cd32e5a-5ea4-4b4a-a17e-120e75afa802",
   "metadata": {},
   "outputs": [],
   "source": [
    "# data = np.genfromtxt(\"dakotaTab.out\", delimiter='\\t', skip_header=1)"
   ]
  },
  {
   "cell_type": "code",
   "execution_count": 16,
   "id": "b49a0f83-74ab-4c88-8fc9-bd4daa04a678",
   "metadata": {},
   "outputs": [],
   "source": [
    "# display(df)\n"
   ]
  },
  {
   "cell_type": "code",
   "execution_count": 17,
   "id": "5fa3cb8a-2416-42c5-8d97-39d18408ae28",
   "metadata": {},
   "outputs": [],
   "source": [
    "# df"
   ]
  },
  {
   "cell_type": "code",
   "execution_count": null,
   "id": "c783f101-c229-4c24-8d04-8f06ad5e3294",
   "metadata": {},
   "outputs": [],
   "source": []
  }
 ],
 "metadata": {
  "kernelspec": {
   "display_name": "Python 3 (ipykernel)",
   "language": "python",
   "name": "python3"
  },
  "language_info": {
   "codemirror_mode": {
    "name": "ipython",
    "version": 3
   },
   "file_extension": ".py",
   "mimetype": "text/x-python",
   "name": "python",
   "nbconvert_exporter": "python",
   "pygments_lexer": "ipython3",
   "version": "3.11.7"
  }
 },
 "nbformat": 4,
 "nbformat_minor": 5
}
